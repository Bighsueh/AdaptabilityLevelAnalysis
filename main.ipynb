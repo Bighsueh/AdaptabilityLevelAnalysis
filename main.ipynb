{
 "cells": [
  {
   "cell_type": "markdown",
   "metadata": {},
   "source": [
    "### 使用教學\n",
    "1. 把 repo clone 下來\n",
    "2. 新增一個新的 cell ,將分析方法的程式碼放進去\n",
    "3. 每個人要從資料觀察到至少一種現象的結論，以及將這些結論需要用到方法的程式碼寫出來\n",
    "4. 將結論用 markdown 撰寫，步驟及簡單的解釋註解撰寫\n",
    "4. 建立 pull request, 我 review 過會幫你 merge"
   ]
  },
  {
   "cell_type": "markdown",
   "metadata": {},
   "source": [
    "### 評分重點\n",
    "1. 要有視覺化(圖表之類的)的呈現!!! (解釋成績)\n",
    "2. 如果有類別的資料就需要用表/圖去比較\n",
    "3. 有連續的資料，需要去看關係 (分析關係)，若有相關性要做相關性比較，或是看有沒有正相關。\n",
    "4. final conclusion (寫出你這段程式碼的結論，可以從數據中發現什麼現象)\n",
    "5. 報告過程務必維持在20分鐘內（全部人，所以每個人務必要將自己的報告時間控制在四分鐘內）"
   ]
  },
  {
   "cell_type": "markdown",
   "metadata": {},
   "source": [
    "### 資料集格式\n",
    "#### Students’ Adaptability Level in school, college and university\n",
    ". About this file:  Students’ Adaptability Level in school, college and university  \n",
    ". Gender: Gender type of student  \n",
    ". Age: Age range of the student  \n",
    ". Education Level: Education institution level  \n",
    ". Institution Type: Education institution type  \n",
    ". IT Student: Studying as IT student or not  \n",
    ". Location in Town: Is student location in town  \n",
    ". Load-shedding: Level of load shedding  \n",
    ". Financial Condition: Financial condition of family  \n",
    ". Internet Type: Internet type used mostly in device  \n",
    ". Network Type: Network connectivity type  \n",
    ". Class Duration: Daily class duration  \n",
    ". Self LMS: Institution’s own LMS availability  \n",
    ". Device: Device used mostly in class  \n",
    ". Adaptability Level: Adaptability level of the student  "
   ]
  },
  {
   "cell_type": "code",
   "execution_count": 150,
   "metadata": {},
   "outputs": [],
   "source": [
    "import typing \n",
    "import os\n",
    "import numpy as np\n",
    "import pandas as pd\n",
    "import matplotlib.pyplot as plt"
   ]
  },
  {
   "cell_type": "code",
   "execution_count": 151,
   "metadata": {},
   "outputs": [],
   "source": [
    "# 檔案路徑\n",
    "target_file: str = \"students_adaptability_level_online_education.csv\"\n",
    "target_folder: str = \"./dataset/\"\n",
    "target_path: str = f\"{target_folder}{target_file}\"\n"
   ]
  },
  {
   "cell_type": "code",
   "execution_count": 152,
   "metadata": {},
   "outputs": [
    {
     "data": {
      "text/html": [
       "<div>\n",
       "<style scoped>\n",
       "    .dataframe tbody tr th:only-of-type {\n",
       "        vertical-align: middle;\n",
       "    }\n",
       "\n",
       "    .dataframe tbody tr th {\n",
       "        vertical-align: top;\n",
       "    }\n",
       "\n",
       "    .dataframe thead th {\n",
       "        text-align: right;\n",
       "    }\n",
       "</style>\n",
       "<table border=\"1\" class=\"dataframe\">\n",
       "  <thead>\n",
       "    <tr style=\"text-align: right;\">\n",
       "      <th></th>\n",
       "      <th>Gender</th>\n",
       "      <th>Age</th>\n",
       "      <th>Education Level</th>\n",
       "      <th>Institution Type</th>\n",
       "      <th>IT Student</th>\n",
       "      <th>Location</th>\n",
       "      <th>Load-shedding</th>\n",
       "      <th>Financial Condition</th>\n",
       "      <th>Internet Type</th>\n",
       "      <th>Network Type</th>\n",
       "      <th>Class Duration</th>\n",
       "      <th>Self Lms</th>\n",
       "      <th>Device</th>\n",
       "      <th>Adaptivity Level</th>\n",
       "    </tr>\n",
       "  </thead>\n",
       "  <tbody>\n",
       "    <tr>\n",
       "      <th>0</th>\n",
       "      <td>Boy</td>\n",
       "      <td>21-25</td>\n",
       "      <td>University</td>\n",
       "      <td>Non Government</td>\n",
       "      <td>No</td>\n",
       "      <td>Yes</td>\n",
       "      <td>Low</td>\n",
       "      <td>Mid</td>\n",
       "      <td>Wifi</td>\n",
       "      <td>4G</td>\n",
       "      <td>3-6</td>\n",
       "      <td>No</td>\n",
       "      <td>Tab</td>\n",
       "      <td>Moderate</td>\n",
       "    </tr>\n",
       "    <tr>\n",
       "      <th>1</th>\n",
       "      <td>Girl</td>\n",
       "      <td>21-25</td>\n",
       "      <td>University</td>\n",
       "      <td>Non Government</td>\n",
       "      <td>No</td>\n",
       "      <td>Yes</td>\n",
       "      <td>High</td>\n",
       "      <td>Mid</td>\n",
       "      <td>Mobile Data</td>\n",
       "      <td>4G</td>\n",
       "      <td>1-3</td>\n",
       "      <td>Yes</td>\n",
       "      <td>Mobile</td>\n",
       "      <td>Moderate</td>\n",
       "    </tr>\n",
       "    <tr>\n",
       "      <th>2</th>\n",
       "      <td>Girl</td>\n",
       "      <td>16-20</td>\n",
       "      <td>College</td>\n",
       "      <td>Government</td>\n",
       "      <td>No</td>\n",
       "      <td>Yes</td>\n",
       "      <td>Low</td>\n",
       "      <td>Mid</td>\n",
       "      <td>Wifi</td>\n",
       "      <td>4G</td>\n",
       "      <td>1-3</td>\n",
       "      <td>No</td>\n",
       "      <td>Mobile</td>\n",
       "      <td>Moderate</td>\n",
       "    </tr>\n",
       "  </tbody>\n",
       "</table>\n",
       "</div>"
      ],
      "text/plain": [
       "  Gender    Age Education Level Institution Type IT Student Location  \\\n",
       "0    Boy  21-25      University   Non Government         No      Yes   \n",
       "1   Girl  21-25      University   Non Government         No      Yes   \n",
       "2   Girl  16-20         College       Government         No      Yes   \n",
       "\n",
       "  Load-shedding Financial Condition Internet Type Network Type Class Duration  \\\n",
       "0           Low                 Mid          Wifi           4G            3-6   \n",
       "1          High                 Mid   Mobile Data           4G            1-3   \n",
       "2           Low                 Mid          Wifi           4G            1-3   \n",
       "\n",
       "  Self Lms  Device Adaptivity Level  \n",
       "0       No     Tab         Moderate  \n",
       "1      Yes  Mobile         Moderate  \n",
       "2       No  Mobile         Moderate  "
      ]
     },
     "execution_count": 152,
     "metadata": {},
     "output_type": "execute_result"
    }
   ],
   "source": [
    "# 將 dataset 讀入 dataframe\n",
    "df: pd.DataFrame = pd.read_csv(target_path)\n",
    "df.head(3)"
   ]
  },
  {
   "cell_type": "code",
   "execution_count": 153,
   "metadata": {},
   "outputs": [
    {
     "name": "stdout",
     "output_type": "stream",
     "text": [
      "       Gender    Age Education Level Institution Type IT Student Location  \\\n",
      "count    1205   1205            1205             1205       1205     1205   \n",
      "unique      2      6               3                2          2        2   \n",
      "top       Boy  21-25          School   Non Government         No      Yes   \n",
      "freq      663    374             530              823        901      935   \n",
      "\n",
      "       Load-shedding Financial Condition Internet Type Network Type  \\\n",
      "count           1205                1205          1205         1205   \n",
      "unique             2                   3             2            3   \n",
      "top              Low                 Mid   Mobile Data           4G   \n",
      "freq            1004                 878           695          775   \n",
      "\n",
      "       Class Duration Self Lms  Device Adaptivity Level  \n",
      "count            1205     1205    1205             1205  \n",
      "unique              3        2       3                3  \n",
      "top               1-3       No  Mobile         Moderate  \n",
      "freq              840      995    1013              625  \n",
      "\n"
     ]
    }
   ],
   "source": [
    "# 統計摘要\n",
    "summary: pd.DataFrame = df.describe()\n",
    "print(summary, end='\\n\\n')\n"
   ]
  },
  {
   "cell_type": "code",
   "execution_count": 154,
   "metadata": {},
   "outputs": [
    {
     "name": "stdout",
     "output_type": "stream",
     "text": [
      "       Gender    Age Education Level Institution Type IT Student Location  \\\n",
      "count    1205   1205            1205             1205       1205     1205   \n",
      "unique      2      6               3                2          2        2   \n",
      "top       Boy  21-25          School   Non Government         No      Yes   \n",
      "freq      663    374             530              823        901      935   \n",
      "\n",
      "       Load-shedding Financial Condition Internet Type Network Type  \\\n",
      "count           1205                1205          1205         1205   \n",
      "unique             2                   3             2            3   \n",
      "top              Low                 Mid   Mobile Data           4G   \n",
      "freq            1004                 878           695          775   \n",
      "\n",
      "       Class Duration Self Lms  Device Adaptivity Level  \n",
      "count            1205     1205    1205             1205  \n",
      "unique              3        2       3                3  \n",
      "top               1-3       No  Mobile         Moderate  \n",
      "freq              840      995    1013              625  \n",
      "\n"
     ]
    }
   ],
   "source": [
    "# 類別變數的統計資訊\n",
    "categorical_summary: pd.DataFrame = df.describe(include=['object'])\n",
    "print(categorical_summary, end='\\n\\n')"
   ]
  },
  {
   "cell_type": "code",
   "execution_count": 155,
   "metadata": {},
   "outputs": [
    {
     "name": "stdout",
     "output_type": "stream",
     "text": [
      "年齡分佈：\n",
      " 21-25    374\n",
      "11-15    353\n",
      "16-20    278\n",
      "1-5       81\n",
      "26-30     68\n",
      "6-10      51\n",
      "Name: Age, dtype: int64\n",
      "\n",
      "教育程度分佈：\n",
      " School        530\n",
      "University    456\n",
      "College       219\n",
      "Name: Education Level, dtype: int64\n",
      "\n"
     ]
    }
   ],
   "source": [
    "# 單變數統計分析\n",
    "age_counts: pd.Series = df['Age'].value_counts()\n",
    "print(\"年齡分佈：\\n\", age_counts, end='\\n\\n')\n",
    "\n",
    "education_counts: pd.Series = df['Education Level'].value_counts()\n",
    "print(\"教育程度分佈：\\n\", education_counts, end='\\n\\n')"
   ]
  },
  {
   "cell_type": "code",
   "execution_count": 156,
   "metadata": {},
   "outputs": [
    {
     "name": "stdout",
     "output_type": "stream",
     "text": [
      "公立學校與性別的交叉表：\n",
      " Institution Type  Government  Non Government\n",
      "Gender                                      \n",
      "Boy                      240             423\n",
      "Girl                     142             400\n",
      "\n"
     ]
    }
   ],
   "source": [
    "# 交叉表分析\n",
    "cross_tab: pd.DataFrame = pd.crosstab(df['Gender'], df['Institution Type'])\n",
    "print(\"公立學校與性別的交叉表：\\n\", cross_tab, end='\\n\\n')"
   ]
  },
  {
   "cell_type": "code",
   "execution_count": 157,
   "metadata": {},
   "outputs": [
    {
     "name": "stdout",
     "output_type": "stream",
     "text": [
      "Institution Type  Government  Non Government\n",
      "Gender                                      \n",
      "Boy                      240             423\n",
      "Girl                     142             400\n"
     ]
    },
    {
     "data": {
      "image/png": "[encoded data removed]",
      "text/plain": [
       "<Figure size 640x480 with 1 Axes>"
      ]
     },
     "metadata": {},
     "output_type": "display_data"
    }
   ],
   "source": [
    "# 製作堆疊條形圖\n",
    "cross_tab.plot(kind='bar', stacked=True)\n",
    "plt.title('Gender vs. Institution Type')\n",
    "plt.xlabel('Gender')\n",
    "plt.ylabel('Count')\n",
    "plt.show()\n"
   ]
  },
  {
   "cell_type": "markdown",
   "metadata": {},
   "source": [
    "### Conclution\n",
    "\n",
    "透過性別與公私立學校的交叉表分析，結合教育水平的比較，我們可以得出一些重要的結論。這些結論對於我們理解教育體系中的性別差異以及公私立學校之間的差異具有重要的啟示。  \n",
    "\n",
    "這項研究還顯示了在公立和私立學校之間存在教育差異。通過交叉比較，我們可以看到不同學校體制對性別差異有不同的影響。這可能表明公立學校和私立學校在性別平等方面的政策和實踐存在差異，需要更深入的研究以確定其原因和後果。"
   ]
  },
  {
   "cell_type": "code",
   "execution_count": null,
   "metadata": {},
   "outputs": [],
   "source": []
  },
  {
   "cell_type": "markdown",
   "metadata": {},
   "source": []
  }
 ],
 "metadata": {
  "kernelspec": {
   "display_name": "Python 3",
   "language": "python",
   "name": "python3"
  },
  "language_info": {
   "codemirror_mode": {
    "name": "ipython",
    "version": 3
   },
   "file_extension": ".py",
   "mimetype": "text/x-python",
   "name": "python",
   "nbconvert_exporter": "python",
   "pygments_lexer": "ipython3",
   "version": "3.11.3"
  }
 },
 "nbformat": 4,
 "nbformat_minor": 2
}
