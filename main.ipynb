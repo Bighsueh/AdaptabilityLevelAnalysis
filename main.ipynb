{
 "cells": [
  {
   "cell_type": "markdown",
   "metadata": {},
   "source": [
    "### 使用教學\n",
    "1. 把 repo clone 下來\n",
    "2. 新增一個新的 cell ,將分析方法的程式碼放進去\n",
    "3. 每個人要從資料觀察到至少一種現象的結論，以及將這些結論需要用到方法的程式碼寫出來\n",
    "4. 將結論用 markdown 撰寫，步驟及簡單的解釋註解撰寫\n",
    "4. 建立 pull request, 我 review 過會幫你 merge"
   ]
  },
  {
   "cell_type": "markdown",
   "metadata": {},
   "source": [
    "### 評分重點\n",
    "1. 要有視覺化(圖表之類的)的呈現!!! (解釋成績)\n",
    "2. 如果有類別的資料就需要用表/圖去比較\n",
    "3. 有連續的資料，需要去看關係 (分析關係)，若有相關性要做相關性比較，或是看有沒有正相關。\n",
    "4. final conclusion (寫出你這段程式碼的結論，可以從數據中發現什麼現象)\n",
    "5. 報告過程務必維持在20分鐘內（全部人，所以每個人務必要將自己的報告時間控制在四分鐘內）"
   ]
  },
  {
   "cell_type": "markdown",
   "metadata": {},
   "source": [
    "### 資料集格式\n",
    "#### Students’ Adaptability Level in school, college and university\n",
    ". About this file:  Students’ Adaptability Level in school, college and university  \n",
    ". Gender: Gender type of student  \n",
    ". Age: Age range of the student  \n",
    ". Education Level: Education institution level  \n",
    ". Institution Type: Education institution type  \n",
    ". IT Student: Studying as IT student or not  \n",
    ". Location in Town: Is student location in town  \n",
    ". Load-shedding: Level of load shedding  \n",
    ". Financial Condition: Financial condition of family  \n",
    ". Internet Type: Internet type used mostly in device  \n",
    ". Network Type: Network connectivity type  \n",
    ". Class Duration: Daily class duration  \n",
    ". Self LMS: Institution’s own LMS availability  \n",
    ". Device: Device used mostly in class  \n",
    ". Adaptability Level: Adaptability level of the student  "
   ]
  },
  {
   "cell_type": "code",
   "execution_count": 461,
   "metadata": {},
   "outputs": [],
   "source": [
    "import typing \n",
    "import os\n",
    "import numpy as np\n",
    "import pandas as pd\n",
    "import matplotlib.pyplot as plt\n",
    "import seaborn as sns\n",
    "from scipy.stats import spearmanr\n",
    "from scipy.stats import chi2_contingency\n",
    "\n",
    "# 中文註解：\n",
    "# 這些是用於數據分析和視覺化的常用 Python 庫和模塊的引入。\n",
    "\n",
    "# English Comments:\n",
    "# These are the import statements for commonly used Python libraries and modules for data analysis and visualization."
   ]
  },
  {
   "cell_type": "code",
   "execution_count": 462,
   "metadata": {},
   "outputs": [
    {
     "name": "stdout",
     "output_type": "stream",
     "text": [
      "Requirement already satisfied: matplotlib in c:\\users\\qup39\\anaconda3\\lib\\site-packages (3.8.1)\n",
      "Requirement already satisfied: contourpy>=1.0.1 in c:\\users\\qup39\\anaconda3\\lib\\site-packages (from matplotlib) (1.2.0)\n",
      "Requirement already satisfied: cycler>=0.10 in c:\\users\\qup39\\anaconda3\\lib\\site-packages (from matplotlib) (0.12.1)\n",
      "Requirement already satisfied: fonttools>=4.22.0 in c:\\users\\qup39\\anaconda3\\lib\\site-packages (from matplotlib) (4.44.0)\n",
      "Requirement already satisfied: kiwisolver>=1.3.1 in c:\\users\\qup39\\anaconda3\\lib\\site-packages (from matplotlib) (1.4.5)\n",
      "Requirement already satisfied: numpy<2,>=1.21 in c:\\users\\qup39\\anaconda3\\lib\\site-packages (from matplotlib) (1.24.2)\n",
      "Requirement already satisfied: packaging>=20.0 in c:\\users\\qup39\\anaconda3\\lib\\site-packages (from matplotlib) (23.0)\n",
      "Requirement already satisfied: pillow>=8 in c:\\users\\qup39\\anaconda3\\lib\\site-packages (from matplotlib) (9.4.0)\n",
      "Requirement already satisfied: pyparsing>=2.3.1 in c:\\users\\qup39\\anaconda3\\lib\\site-packages (from matplotlib) (3.1.1)\n",
      "Requirement already satisfied: python-dateutil>=2.7 in c:\\users\\qup39\\anaconda3\\lib\\site-packages (from matplotlib) (2.8.2)\n",
      "Requirement already satisfied: importlib-resources>=3.2.0 in c:\\users\\qup39\\anaconda3\\lib\\site-packages (from matplotlib) (6.0.1)\n",
      "Requirement already satisfied: zipp>=3.1.0 in c:\\users\\qup39\\anaconda3\\lib\\site-packages (from importlib-resources>=3.2.0->matplotlib) (3.11.0)\n",
      "Requirement already satisfied: six>=1.5 in c:\\users\\qup39\\anaconda3\\lib\\site-packages (from python-dateutil>=2.7->matplotlib) (1.16.0)\n",
      "Requirement already satisfied: seaborn in c:\\users\\qup39\\anaconda3\\lib\\site-packages (0.13.0)\n",
      "Requirement already satisfied: numpy!=1.24.0,>=1.20 in c:\\users\\qup39\\anaconda3\\lib\\site-packages (from seaborn) (1.24.2)\n",
      "Requirement already satisfied: pandas>=1.2 in c:\\users\\qup39\\anaconda3\\lib\\site-packages (from seaborn) (1.5.3)\n",
      "Requirement already satisfied: matplotlib!=3.6.1,>=3.3 in c:\\users\\qup39\\anaconda3\\lib\\site-packages (from seaborn) (3.8.1)\n",
      "Requirement already satisfied: contourpy>=1.0.1 in c:\\users\\qup39\\anaconda3\\lib\\site-packages (from matplotlib!=3.6.1,>=3.3->seaborn) (1.2.0)\n",
      "Requirement already satisfied: cycler>=0.10 in c:\\users\\qup39\\anaconda3\\lib\\site-packages (from matplotlib!=3.6.1,>=3.3->seaborn) (0.12.1)\n",
      "Requirement already satisfied: fonttools>=4.22.0 in c:\\users\\qup39\\anaconda3\\lib\\site-packages (from matplotlib!=3.6.1,>=3.3->seaborn) (4.44.0)\n",
      "Requirement already satisfied: kiwisolver>=1.3.1 in c:\\users\\qup39\\anaconda3\\lib\\site-packages (from matplotlib!=3.6.1,>=3.3->seaborn) (1.4.5)\n",
      "Requirement already satisfied: packaging>=20.0 in c:\\users\\qup39\\anaconda3\\lib\\site-packages (from matplotlib!=3.6.1,>=3.3->seaborn) (23.0)\n",
      "Requirement already satisfied: pillow>=8 in c:\\users\\qup39\\anaconda3\\lib\\site-packages (from matplotlib!=3.6.1,>=3.3->seaborn) (9.4.0)\n",
      "Requirement already satisfied: pyparsing>=2.3.1 in c:\\users\\qup39\\anaconda3\\lib\\site-packages (from matplotlib!=3.6.1,>=3.3->seaborn) (3.1.1)\n",
      "Requirement already satisfied: python-dateutil>=2.7 in c:\\users\\qup39\\anaconda3\\lib\\site-packages (from matplotlib!=3.6.1,>=3.3->seaborn) (2.8.2)\n",
      "Requirement already satisfied: importlib-resources>=3.2.0 in c:\\users\\qup39\\anaconda3\\lib\\site-packages (from matplotlib!=3.6.1,>=3.3->seaborn) (6.0.1)\n",
      "Requirement already satisfied: pytz>=2020.1 in c:\\users\\qup39\\anaconda3\\lib\\site-packages (from pandas>=1.2->seaborn) (2022.7)\n",
      "Requirement already satisfied: zipp>=3.1.0 in c:\\users\\qup39\\anaconda3\\lib\\site-packages (from importlib-resources>=3.2.0->matplotlib!=3.6.1,>=3.3->seaborn) (3.11.0)\n",
      "Requirement already satisfied: six>=1.5 in c:\\users\\qup39\\anaconda3\\lib\\site-packages (from python-dateutil>=2.7->matplotlib!=3.6.1,>=3.3->seaborn) (1.16.0)\n",
      "Requirement already satisfied: plotly in c:\\users\\qup39\\anaconda3\\lib\\site-packages (5.18.0)\n",
      "Requirement already satisfied: tenacity>=6.2.0 in c:\\users\\qup39\\anaconda3\\lib\\site-packages (from plotly) (8.2.3)\n",
      "Requirement already satisfied: packaging in c:\\users\\qup39\\anaconda3\\lib\\site-packages (from plotly) (23.0)\n",
      "Requirement already satisfied: scipy in c:\\users\\qup39\\anaconda3\\lib\\site-packages (1.11.3)\n",
      "Requirement already satisfied: numpy<1.28.0,>=1.21.6 in c:\\users\\qup39\\anaconda3\\lib\\site-packages (from scipy) (1.24.2)\n",
      "Requirement already satisfied: statsmodels in c:\\users\\qup39\\anaconda3\\lib\\site-packages (0.14.0)\n",
      "Requirement already satisfied: numpy>=1.18 in c:\\users\\qup39\\anaconda3\\lib\\site-packages (from statsmodels) (1.24.2)\n",
      "Requirement already satisfied: scipy!=1.9.2,>=1.4 in c:\\users\\qup39\\anaconda3\\lib\\site-packages (from statsmodels) (1.11.3)\n",
      "Requirement already satisfied: pandas>=1.0 in c:\\users\\qup39\\anaconda3\\lib\\site-packages (from statsmodels) (1.5.3)\n",
      "Requirement already satisfied: patsy>=0.5.2 in c:\\users\\qup39\\anaconda3\\lib\\site-packages (from statsmodels) (0.5.3)\n",
      "Requirement already satisfied: packaging>=21.3 in c:\\users\\qup39\\anaconda3\\lib\\site-packages (from statsmodels) (23.0)\n",
      "Requirement already satisfied: python-dateutil>=2.8.1 in c:\\users\\qup39\\anaconda3\\lib\\site-packages (from pandas>=1.0->statsmodels) (2.8.2)\n",
      "Requirement already satisfied: pytz>=2020.1 in c:\\users\\qup39\\anaconda3\\lib\\site-packages (from pandas>=1.0->statsmodels) (2022.7)\n",
      "Requirement already satisfied: six in c:\\users\\qup39\\anaconda3\\lib\\site-packages (from patsy>=0.5.2->statsmodels) (1.16.0)\n",
      "Requirement already satisfied: joblib in c:\\users\\qup39\\anaconda3\\lib\\site-packages (1.3.2)\n"
     ]
    }
   ],
   "source": [
    "# 安裝 matplotlib 庫，用於數據可視化。\n",
    "# Install the matplotlib library for data visualization.\n",
    "!pip install matplotlib\n",
    "\n",
    "# 安裝 seaborn 庫，用於美化和增強 matplotlib 的數據視視覺化能力。\n",
    "# Install the seaborn library to enhance and beautify the data visualization capabilities of matplotlib.\n",
    "!pip install seaborn\n",
    "\n",
    "# 安裝 plotly 庫，用於互動式數據可視化。\n",
    "# Install the plotly library for interactive data visualization.\n",
    "!pip install plotly\n",
    "\n",
    "# 安裝 scipy 庫，用於科學計算和數據分析。\n",
    "# Install the scipy library for scientific computing and data analysis.\n",
    "!pip install scipy\n",
    "\n",
    "# 安裝 statsmodels 庫，用於統計模型和測試。\n",
    "# Install the statsmodels library for statistical models and tests.\n",
    "!pip install statsmodels\n",
    "\n",
    "# Install the scikit-learn machine learning library.\n",
    "!pip install joblib\n",
    "\n"
   ]
  },
  {
   "cell_type": "code",
   "execution_count": 463,
   "metadata": {},
   "outputs": [],
   "source": [
    "# 視覺化套件\n",
    "import seaborn as sns\n",
    "import plotly.express as px"
   ]
  },
  {
   "cell_type": "code",
   "execution_count": 464,
   "metadata": {},
   "outputs": [],
   "source": [
    "# 檔案路徑\n",
    "target_file: str = \"students_adaptability_level_online_education.csv\"\n",
    "target_folder: str = \"./dataset/\"\n",
    "target_path: str = f\"{target_folder}{target_file}\"\n"
   ]
  },
  {
   "cell_type": "code",
   "execution_count": 465,
   "metadata": {},
   "outputs": [
    {
     "data": {
      "text/html": [
       "<div>\n",
       "<style scoped>\n",
       "    .dataframe tbody tr th:only-of-type {\n",
       "        vertical-align: middle;\n",
       "    }\n",
       "\n",
       "    .dataframe tbody tr th {\n",
       "        vertical-align: top;\n",
       "    }\n",
       "\n",
       "    .dataframe thead th {\n",
       "        text-align: right;\n",
       "    }\n",
       "</style>\n",
       "<table border=\"1\" class=\"dataframe\">\n",
       "  <thead>\n",
       "    <tr style=\"text-align: right;\">\n",
       "      <th></th>\n",
       "      <th>Gender</th>\n",
       "      <th>Age</th>\n",
       "      <th>Education Level</th>\n",
       "      <th>Institution Type</th>\n",
       "      <th>IT Student</th>\n",
       "      <th>Location</th>\n",
       "      <th>Load-shedding</th>\n",
       "      <th>Financial Condition</th>\n",
       "      <th>Internet Type</th>\n",
       "      <th>Network Type</th>\n",
       "      <th>Class Duration</th>\n",
       "      <th>Self Lms</th>\n",
       "      <th>Device</th>\n",
       "      <th>Adaptivity Level</th>\n",
       "    </tr>\n",
       "  </thead>\n",
       "  <tbody>\n",
       "    <tr>\n",
       "      <th>0</th>\n",
       "      <td>Boy</td>\n",
       "      <td>21-25</td>\n",
       "      <td>University</td>\n",
       "      <td>Non Government</td>\n",
       "      <td>No</td>\n",
       "      <td>Yes</td>\n",
       "      <td>Low</td>\n",
       "      <td>Mid</td>\n",
       "      <td>Wifi</td>\n",
       "      <td>4G</td>\n",
       "      <td>3-6</td>\n",
       "      <td>No</td>\n",
       "      <td>Tab</td>\n",
       "      <td>Moderate</td>\n",
       "    </tr>\n",
       "    <tr>\n",
       "      <th>1</th>\n",
       "      <td>Girl</td>\n",
       "      <td>21-25</td>\n",
       "      <td>University</td>\n",
       "      <td>Non Government</td>\n",
       "      <td>No</td>\n",
       "      <td>Yes</td>\n",
       "      <td>High</td>\n",
       "      <td>Mid</td>\n",
       "      <td>Mobile Data</td>\n",
       "      <td>4G</td>\n",
       "      <td>1-3</td>\n",
       "      <td>Yes</td>\n",
       "      <td>Mobile</td>\n",
       "      <td>Moderate</td>\n",
       "    </tr>\n",
       "    <tr>\n",
       "      <th>2</th>\n",
       "      <td>Girl</td>\n",
       "      <td>16-20</td>\n",
       "      <td>College</td>\n",
       "      <td>Government</td>\n",
       "      <td>No</td>\n",
       "      <td>Yes</td>\n",
       "      <td>Low</td>\n",
       "      <td>Mid</td>\n",
       "      <td>Wifi</td>\n",
       "      <td>4G</td>\n",
       "      <td>1-3</td>\n",
       "      <td>No</td>\n",
       "      <td>Mobile</td>\n",
       "      <td>Moderate</td>\n",
       "    </tr>\n",
       "  </tbody>\n",
       "</table>\n",
       "</div>"
      ],
      "text/plain": [
       "  Gender    Age Education Level Institution Type IT Student Location  \\\n",
       "0    Boy  21-25      University   Non Government         No      Yes   \n",
       "1   Girl  21-25      University   Non Government         No      Yes   \n",
       "2   Girl  16-20         College       Government         No      Yes   \n",
       "\n",
       "  Load-shedding Financial Condition Internet Type Network Type Class Duration  \\\n",
       "0           Low                 Mid          Wifi           4G            3-6   \n",
       "1          High                 Mid   Mobile Data           4G            1-3   \n",
       "2           Low                 Mid          Wifi           4G            1-3   \n",
       "\n",
       "  Self Lms  Device Adaptivity Level  \n",
       "0       No     Tab         Moderate  \n",
       "1      Yes  Mobile         Moderate  \n",
       "2       No  Mobile         Moderate  "
      ]
     },
     "execution_count": 465,
     "metadata": {},
     "output_type": "execute_result"
    }
   ],
   "source": [
    "# 將 dataset 讀入 dataframe\n",
    "df: pd.DataFrame = pd.read_csv(target_path)\n",
    "df.head(3)"
   ]
  },
  {
   "cell_type": "markdown",
   "metadata": {},
   "source": [
    "---\n",
    "### 進行學生的財務狀況與教育水平的關聯性分析\n",
    "#### (Analyze how a student's financial situation impacts their level of education.)\n",
    "\n",
    "- Education Level (教育水平)\n",
    "- Financial Condition (財務狀況)\n",
    "\n",
    ">- 我的預期效果: 可能會顯示出家庭經濟狀況對學生教育機會的影響程度。  \n",
    ">>- (My Expected effect: This study may reveal how a family's economic status impacts a student's educational opportunities.)\n",
    "---"
   ]
  },
  {
   "cell_type": "markdown",
   "metadata": {},
   "source": [
    "---\n",
    ">### 步驟一：資料準備與清理  \n",
    ">> 1. 檢查資料集，確保其中包含了教育程度和年齡這兩個欄位。  \n",
    ">> 2. 使用程式碼將資料集載入到環境中，例如使用 Python 的 pandas 庫。  \n",
    ">### Step 1: Data Preparation and Cleaning\n",
    ">> 1. Check that the dataset has the education and age fields.  \n",
    ">> 2. Then load it into the environment with code, like Pandas in Python.\n",
    "---"
   ]
  },
  {
   "cell_type": "code",
   "execution_count": 466,
   "metadata": {},
   "outputs": [
    {
     "name": "stdout",
     "output_type": "stream",
     "text": [
      "Index(['Gender', 'Age', 'Education Level', 'Institution Type', 'IT Student',\n",
      "       'Location', 'Load-shedding', 'Financial Condition', 'Internet Type',\n",
      "       'Network Type', 'Class Duration', 'Self Lms', 'Device',\n",
      "       'Adaptivity Level'],\n",
      "      dtype='object')\n",
      "Gender                 0\n",
      "Age                    0\n",
      "Education Level        0\n",
      "Institution Type       0\n",
      "IT Student             0\n",
      "Location               0\n",
      "Load-shedding          0\n",
      "Financial Condition    0\n",
      "Internet Type          0\n",
      "Network Type           0\n",
      "Class Duration         0\n",
      "Self Lms               0\n",
      "Device                 0\n",
      "Adaptivity Level       0\n",
      "dtype: int64\n"
     ]
    }
   ],
   "source": [
    "# 檢查列名稱\n",
    "# Check column names\n",
    "print(df.columns)\n",
    "\n",
    "# 檢查缺失值\n",
    "# Check for missing values\n",
    "print(df.isnull().sum())"
   ]
  },
  {
   "cell_type": "markdown",
   "metadata": {},
   "source": [
    "---\n",
    ">### 步驟二 - 1 ：成人人數統計 \n",
    ">> 首先，選擇年齡大於或等於18歲的樣本。  \n",
    "\n",
    ">Adult population statistics\n",
    ">>First, Select samples 18 years or older.\n",
    "---"
   ]
  },
  {
   "cell_type": "code",
   "execution_count": 467,
   "metadata": {},
   "outputs": [
    {
     "name": "stdout",
     "output_type": "stream",
     "text": [
      "Number of samples in df_adults: 720\n"
     ]
    }
   ],
   "source": [
    "# 處理年齡區間資料，將其轉換為數值\n",
    "# Process age interval data and convert it into numerical values\n",
    "def age_range_to_value(age_range):\n",
    "    if '-' in age_range:  # 檢查年齡區間是否包含連字符 \"-\"\n",
    "        split_age = age_range.split('-')  # 分割年齡區間\n",
    "        return (int(split_age[0]) + int(split_age[1])) // 2  # 計算年齡區間的中間值\n",
    "    else:\n",
    "        return int(age_range)  # 若不是區間，直接轉換為數值\n",
    "\n",
    "# 使用處理後的函數處理年齡資料\n",
    "# Use function to process age data.\n",
    "df['Age'] = df['Age'].apply(age_range_to_value)  # 應用處理年齡區間的函數\n",
    "\n",
    "# 將年齡分組 group age\n",
    "bins = [0, 12, 15, 18]  # 分組邊界\n",
    "labels = ['Children', 'Teenagers', 'Adults']  # 標籤名稱\n",
    "df['Age_Group'] = pd.cut(df['Age'], bins=bins, labels=labels)  # 將年齡分組並標記類別\n",
    "\n",
    "# 選擇年齡大於或等於18歲的樣本\n",
    "# Select samples older than or equal to 18 years old\n",
    "df_adults = df[df['Age'] >= 18]  # 選擇符合條件的樣本\n",
    "\n",
    "print(f\"Number of samples in df_adults: {df_adults.shape[0]}\")  # 輸出符合條件的樣本數量\n"
   ]
  },
  {
   "cell_type": "markdown",
   "metadata": {},
   "source": [
    "---\n",
    ">### 步驟二 - 2 成人教育程度與經濟狀況統計 ('Financial Condition'=['Poor','Mid','Rich'])\n",
    ">>1. 選擇年齡大於或等於18歲的樣本。\n",
    ">>2. 使用 pd.crosstab 函數計算不同教育程度和經濟狀況的交叉分析。\n",
    ">>3. 使用堆疊條形圖顯示結果。\n",
    ">### Step 2-2 Adult Educational Attainment and Economic Status Statistics ('Financial Status'=['Poor','Mid','Rich']) \n",
    ">>1. Choose samples 18 years or older.\n",
    ">>2. Use the pd.crosstab function to calculate cross-analysis across education and economic status.\n",
    ">>3. Show the results with a stacked bar chart.\n",
    "---"
   ]
  },
  {
   "cell_type": "code",
   "execution_count": 468,
   "metadata": {},
   "outputs": [
    {
     "data": {
      "image/png": "[encoded data removed]",
      "text/plain": [
       "<Figure size 640x480 with 1 Axes>"
      ]
     },
     "metadata": {},
     "output_type": "display_data"
    }
   ],
   "source": [
    "# # 選擇年齡大於或等於18歲的樣本\n",
    "# # Select samples older than or equal to 18 years old\n",
    "# df_adults\n",
    "\n",
    "# 使用 pd.crosstab 函數計算不同教育程度和經濟狀況的交叉分析 \n",
    "# Use the pd.crosstab method to generate a cross-analysis between education and economic status.\n",
    "cross_table_fc = pd.crosstab(df_adults['Education Level'], df_adults['Financial Condition'])\n",
    "\n",
    "# 繪製堆疊條形圖 Draw a stacked bar chart.\n",
    "cross_table_fc.plot(kind='bar', stacked=True)\n",
    "\n",
    "# 設置標籤 Set label\n",
    "plt.xlabel('Education Level')\n",
    "plt.ylabel('Count')\n",
    "# 依成人經濟狀況劃分的教育程度分佈\n",
    "plt.title('Distribution of Education Level by Financial Condition for Adults')\n",
    "plt.show()"
   ]
  },
  {
   "cell_type": "code",
   "execution_count": 469,
   "metadata": {},
   "outputs": [
    {
     "name": "stdout",
     "output_type": "stream",
     "text": [
      "Financial Condition  Poor  Mid  Rich  Total\n",
      "Education Level                            \n",
      "School                  9   27     9     45\n",
      "College                17  200     2    219\n",
      "University             82  342    32    456\n",
      "Total                 108  569    43    720\n"
     ]
    }
   ],
   "source": [
    "# 使用 groupby 和 sum 計算數據\n",
    "# Calculate data using groupby and sum\n",
    "new_table = df_adults.groupby('Education Level')['Financial Condition'].value_counts().unstack().fillna(0)\n",
    "\n",
    "# 添加合計列\n",
    "# Add total column\n",
    "new_table['Total'] = new_table.sum(axis=1)\n",
    "\n",
    "# 添加合計行\n",
    "# Add total row\n",
    "new_table.loc['Total'] = new_table.sum()\n",
    "\n",
    "# 將表格重新排序\n",
    "# Reorder table\n",
    "new_table = new_table.reindex(index=['School', 'College', 'University', 'Total'], \n",
    "                            columns=['Poor', 'Mid', 'Rich', 'Total'])\n",
    "\n",
    "# 顯示新的表格\n",
    "# Show new table\n",
    "print(new_table)\n"
   ]
  },
  {
   "cell_type": "markdown",
   "metadata": {},
   "source": [
    "---\n",
    "### 根據熱力圖的顯示，我們可以得出一些初步結論(初步觀察)：\n",
    ">就「Financial Condition」（財務狀況）而言，在不同的「Education Level」（教育水平）中。\n",
    ">>1. 大學（University）的人數最多，其次是大專院校（College），最少的是中小學校（School）。\n",
    ">>2. 在「Education Level」方面，教育水平為大學（University）的受訪者數量最多，其次是大專院校（College），最少的是中小學校（School）。\n",
    ">>3. 就「Financial Condition」而言，中等（Mid）財務狀況的人數最多，其次是困難（Poor）和豐裕（Rich）的人數。\n",
    "\n",
    ">數據差異：\n",
    ">>1. 在\"University\" 教育階段中(相較於\"School\" 和 \"College\" 階段)，有較多的人處於\"Mid\"和\"Rich\"的經濟狀況。　\n",
    ">>2. 在\"College\" 教育階段中，\"Mid\"經濟狀況的人數遠多於\"Rich\"和\"Poor\"的人數。\n",
    "\n",
    "### Based on the heat map, we can draw some preliminary conclusions (initial observations):\n",
    ">>In terms of \"Financial Condition\", among different \"Education Levels\".  \n",
    ">>1. University (大學) has the largest number of students, followed by College (大專院校) and the least number of students are in primary and secondary schools (中小學校).  \n",
    ">>2. In terms of \"Education Level\", the number of respondents whose education level is University is the highest, followed by College, and the least is School.  \n",
    ">>3. For 'Financial Condition', the highest number of respondents were in the Medium financial condition, followed by those in the Difficult (Poor) and Rich (Rich) categories.  \n",
    "\n",
    ">Difference in data:\n",
    ">>1. At the \"University\" level of education (compared to the \"School\" and \"College\" levels), more people were in the \"Mid\" and \"Rich\" financial situations.　 \n",
    ">>2. In the \"College\" stage of education, the number of people in the \"Mid\" economic status is much larger than the number of people in the \"Rich\" and \"Poor\" status.  \n",
    "---"
   ]
  },
  {
   "cell_type": "code",
   "execution_count": 470,
   "metadata": {},
   "outputs": [
    {
     "data": {
      "image/png": "[encoded data removed]",
      "text/plain": [
       "<Figure size 800x600 with 2 Axes>"
      ]
     },
     "metadata": {},
     "output_type": "display_data"
    }
   ],
   "source": [
    "\n",
    "\n",
    "# 選擇年齡大於或等於18歲的樣本\n",
    "# Selection of samples older than or equal to 18 years of age\n",
    "df_adults = df[df['Age'] >= 18]\n",
    "\n",
    "# 創建交叉表\n",
    "# Create crosstabs\n",
    "cross_table = pd.crosstab(pd.Categorical(df_adults['Education Level'], categories=['University','College','School'], ordered=True), \n",
    "                        pd.Categorical(df_adults['Financial Condition'], categories=['Poor', 'Mid', 'Rich'], ordered=True))\n",
    "\n",
    "# 重命名行和列索引\n",
    "# Rename row and column indexes\n",
    "cross_table = cross_table.rename(index={'University': 'University','College': 'College','School': 'School' }, \n",
    "                                columns={'Poor': 'Poor', 'Mid': 'Mid', 'Rich': 'Rich'})\n",
    "\n",
    "# 使用seaborn和matplotlib繪製熱力圖\n",
    "# Plotting heat maps with seaborn and matplotlib\n",
    "plt.figure(figsize=(8, 6))\n",
    "sns.heatmap(cross_table, annot=True, fmt='d', cmap='YlGnBu', cbar_kws={'label': 'Count'}, cbar=True)\n",
    "plt.xlabel('Financial Condition')\n",
    "plt.ylabel('Education Level')\n",
    "plt.title('Relationship between Education Level and Financial Condition')\n",
    "plt.show()\n"
   ]
  },
  {
   "cell_type": "markdown",
   "metadata": {},
   "source": [
    "1. 曾嘗試使用，ANOVA F-Statistic，數據並未提供足夠的證據支持教育水平與經濟狀況之間存在顯著關聯性的觀點。  \n",
    "2. 數據結果:ANOVA F-Statistic: 1.9175872211290341；P-value: 0.14771405611151966。  \n",
    "#### English version\n",
    "1. An attempt was made to use, ANOVA F-Statistic, the data did not provide enough evidence to support the view that there is a significant correlation between education level and economic status.  \n",
    "2. Data result: ANOVA F-Statistic: 1.9175872211290341; P-value: 0.14771405611151966."
   ]
  },
  {
   "cell_type": "code",
   "execution_count": 471,
   "metadata": {},
   "outputs": [],
   "source": [
    "# from scipy.stats import f_oneway\n",
    "\n",
    "# # 選擇年齡大於或等於18歲的樣本\n",
    "# df_adults = df[df['Age'] >= 18]\n",
    "\n",
    "# # 將類別映射到數值\n",
    "# education_mapping = {'School': 1, 'College': 2, 'University': 3}\n",
    "# df_adults['Education_Level_Numeric'] = df_adults['Education Level'].map(education_mapping)\n",
    "\n",
    "# # 將類別映射到數值\n",
    "# financial_mapping = {'Poor': 1, 'Mid': 2, 'Rich': 3}\n",
    "# df_adults['Financial_Condition_Numeric'] = df_adults['Financial Condition'].map(financial_mapping)\n",
    "\n",
    "# # 進行分析\n",
    "# f_statistic, p_value = f_oneway(df_adults[df_adults['Financial Condition'] == 'Poor']['Education_Level_Numeric'],\n",
    "#                                 df_adults[df_adults['Financial Condition'] == 'Mid']['Education_Level_Numeric'],\n",
    "#                                 df_adults[df_adults['Financial Condition'] == 'Rich']['Education_Level_Numeric'])\n",
    "\n",
    "# print(f\"ANOVA F-Statistic: {f_statistic}\")\n",
    "# print(f\"P-value: {p_value}\")\n"
   ]
  },
  {
   "cell_type": "markdown",
   "metadata": {},
   "source": [
    "1. Kruskal-Wallis H統計量是一種非參數統計檢定方法:提供了強有力的證據，支持教育水平與經濟狀況之間的非線性關聯。  \n",
    "2. Kruskal-Wallis H-statistic的較高值以及顯著性水平P-value的極低值（遠小於0.05）表明數據提供了足夠的證據，支持教育水平與經濟狀況之間存在顯著的非線性關聯。這表明這些數據組之間的差異不太可能是由於隨機因素引起的，而可能是由於真正的關聯性。  \n",
    "3. 數據結果:Kruskal-Wallis H-statistic: 18.072002851220077;P-value: 0.00011904589991971843  \n",
    "\n",
    "#### English version\n",
    "1. The Kruskal-Wallis H-statistic is a non-parametric statistical validation method: it provides strong evidence in favor of a non-linear association between educational attainment and economic status.  \n",
    "2. The high values of the Kruskal-Wallis H-statistic and the very low values of the significance level P-value (much less than 0.05) indicate that the data provide sufficient evidence to support the existence of a significant non-linear association between educational attainment and economic status. This suggests that the differences between these datasets are unlikely to be due to random factors but may be due to genuine correlations.  \n",
    "3. Data Results:Kruskal-Wallis H-statistic: 18.072002851220077;P-value: 0.00011904589991971843\n"
   ]
  },
  {
   "cell_type": "code",
   "execution_count": 472,
   "metadata": {},
   "outputs": [],
   "source": [
    "# from scipy.stats import kruskal\n",
    "\n",
    "# # 選擇大於或等於18歲的樣本\n",
    "# df_adults = df[df['Age'] >= 18]\n",
    "\n",
    "# # 將不同財務狀況的教育程度分組\n",
    "# group1 = df_adults[df_adults['Financial Condition'] == 'Poor']['Education Level']\n",
    "# group2 = df_adults[df_adults['Financial Condition'] == 'Mid']['Education Level']\n",
    "# group3 = df_adults[df_adults['Financial Condition'] == 'Rich']['Education Level']\n",
    "\n",
    "# # 進行Kruskal-Wallis檢定\n",
    "# H, p_value = kruskal(group1, group2, group3)\n",
    "\n",
    "# # 輸出結果\n",
    "# print(f\"Kruskal-Wallis H-statistic: {H}\")\n",
    "# print(f\"P-value: {p_value}\")\n"
   ]
  },
  {
   "cell_type": "markdown",
   "metadata": {},
   "source": [
    "---\n",
    ">### 步驟三：成人的財務狀況與成人的教育程度關聯性分析-卡方\n",
    ">>1. 選擇年齡大於或等於18歲的樣本。\n",
    ">>2. 使用相應的程式碼計算該樣本中不同教育程度的分佈情況以及不同財務狀況的分佈情況。\n",
    ">>3. 使用統計方法（如卡方檢定或相關係數）來評估教育程度和財務狀況之間的關聯性。\n",
    ">>4. 解讀分析結果的報告或總結。\n",
    ">### Step 3: Analyzing the Relationship between Adults' Finances and Education Level using Chi-Square Test\n",
    ">>1. Select samples whose age is greater than or equal to 18 years old.\n",
    ">>2. Calculate the distribution of educational levels and financial statuses in the sample using the appropriate code.\n",
    ">>3. Use statistical methods like chi-square tests or correlation coefficients to assess the link between educational achievement and economic status.\n",
    ">>4. Interpret analysis reports or summaries.  \n",
    "---"
   ]
  },
  {
   "cell_type": "markdown",
   "metadata": {},
   "source": [
    "### 卡方檢定-獨立性檢定(Chi-square檢驗)的結果顯示了教育水平和經濟狀況\"存在關聯性\"。\n",
    "- 數據結果:Chi-square Statistic: 43.33578659824871;P-value: 8.813829914215358e-09  \n",
    ">具體來說，根據所提供的卡方統計量和P-value，我們可以得出以下結論：\n",
    ">>1. 統計顯著性： 極低的P-value（8.813829914215358e-09，非常接近於零）表明觀察到的數據之間存在著顯著的關聯性。這表示教育水平和經濟狀況之間的差異不太可能是由於隨機因素引起的。\n",
    ">>2. 卡方統計量： 高卡方統計量的值（43.33578659824871）表明觀察到的數據與期望之間存在著較大的差異。這表明數據中的變異程度很大，並且數據之間存在著明顯的相關性。\n",
    ">>3. 因此，根據這些結果，我們可以得出結論，教育水平和經濟狀況之間存在著關聯性。這意味著這兩個變量之間的差異不太可能是由於隨機因素引起的。這些結果強有力地證明了教育水平和經濟狀況之間的關聯性，並表明這種關聯性不太可能是由於偶然性因素所致。\n",
    "\n",
    ">為何使用卡方檢定-獨立性檢定(Chi-square檢驗)  \n",
    ">>1. 常用於分析兩個類別變數之間是否存在相關性或相互獨立的關係。  \n",
    ">>2. 確認這兩個變數之間是否存在相關性或者是它們之間是否獨立，確認教育水平和經濟狀況之間的關聯性。\n",
    "\n",
    "#### English version\n",
    "### The results of the Chi-square test show that there is a \"correlation\" between educational level and economic status.\n",
    "- Data result: Chi-square Statistic: 43.33578659824871;P-value: 8.813829914215358e-09  \n",
    ">>Specifically, based on the provided Chi-square statistic and P-value, we can draw the following conclusions:\n",
    ">>1. Statistical significance: The very low P-value (8.813829914215358e-09, which is very close to zero) indicates that there is a significant correlation between the observed data. This means that it is unlikely that the difference between education level and economic status is due to random factors.\n",
    ">>2. chi-square statistic: The value of high chi-square statistic (43.33578659824871) indicates that there is a significant difference between the observed data and the expectation. This indicates that there is a high degree of variability in the data and there is a significant correlation between the data.\n",
    ">>3. Therefore, based on these results, we can conclude that there is a correlation between the level of education and economic status. This means that the difference between the two variables is unlikely to be due to random factors. These results provide strong evidence of the correlation between education level and economic status and suggest that this correlation is unlikely to be due to chance factors.  \n",
    "\n",
    ">Why use chi-square test - Independence test (Chi-square test)?  \n",
    ">>1. Commonly used to analyze whether there is a correlation or independent relationship between two categories of variables.  \n",
    ">>2. To confirm whether there is correlation between two variables or whether they are independent of each other, and to confirm the correlation between education level and economic status.\n",
    "\n"
   ]
  },
  {
   "cell_type": "code",
   "execution_count": 473,
   "metadata": {},
   "outputs": [
    {
     "name": "stdout",
     "output_type": "stream",
     "text": [
      "Chi-square Statistic: 43.33578659824871\n",
      "P-value: 8.813829914215358e-09\n"
     ]
    }
   ],
   "source": [
    "from scipy.stats import chi2_contingency\n",
    "\n",
    "# 執行卡方檢定\n",
    "# Perform a chi-square test\n",
    "contingency_table = pd.crosstab(df_adults['Education Level'], df_adults['Financial Condition'])\n",
    "chi2, p, dof, expected = chi2_contingency(contingency_table)\n",
    "\n",
    "# 輸出結果\n",
    "# Output results\n",
    "print(f\"Chi-square Statistic: {chi2}\")\n",
    "print(f\"P-value: {p}\")\n"
   ]
  },
  {
   "cell_type": "markdown",
   "metadata": {},
   "source": [
    "---\n",
    "### 其他分析方式 Other ways of analyzing"
   ]
  },
  {
   "cell_type": "markdown",
   "metadata": {
    "notebookRunGroups": {
     "groupValue": "1"
    }
   },
   "source": [
    "---\n",
    "### Cramer's V：＂存在一些程度的關聯性＂，但不能完全確定它們之間有明顯的相關性。\n",
    "- 數據結果: Cramer's V值為0.165  \n",
    ">是一種用於衡量分類變數之間相關性強度的統計量。\n",
    ">>它的值範圍通常在0和1之間，數值越接近1表示相關性越強，而數值越接近0則表示相關性越弱。  \n",
    ">>0.165表示教育水平和經濟狀況之間存在一些程度的關聯性，但不能完全確定它們之間有明顯的相關性。  \n",
    "\n",
    ">為何使用\n",
    ">>1. 試圖分析教育水平與經濟狀況之間的關聯性。  \n",
    ">>2. Cramer's V value是用來衡量教育水平和經濟狀況之間關聯程度的指標。  \n",
    ">>3. 這個檢驗有助於判斷這兩個因素之間的關聯是否具有統計學意義。  \n",
    "\n",
    "#### English version\n",
    "### Cramer's V: \"Some degree of correlation exists\", but it is not entirely certain that there is a significant correlation between them.\n",
    "- Data result: Cramer's V is 0.165  \n",
    ">Cramer's V is a statistic used to measure the strength of correlation between categorical variables.\n",
    ">>It usually ranges between 0 and 1, with values closer to 1 indicating a stronger correlation and values closer to 0 indicating a weaker correlation.  \n",
    ">>0.165 indicates that there is some degree of correlation between education level and economic status, but it is not entirely certain that there is significant correlation between them.  \n",
    "\n",
    ">Why use\n",
    ">>1. To try to analyze the correlation between education level and economic status.  \n",
    ">>Cramer's V value is a measure of the degree of correlation between educational attainment and economic status.  \n",
    ">>3. This test helps to determine whether the association between these two factors is statistically significant.\n",
    "---"
   ]
  },
  {
   "cell_type": "code",
   "execution_count": 474,
   "metadata": {
    "notebookRunGroups": {
     "groupValue": "2"
    }
   },
   "outputs": [
    {
     "name": "stdout",
     "output_type": "stream",
     "text": [
      "Cramer's V value: 0.16549574317242924\n"
     ]
    }
   ],
   "source": [
    "# 選擇大於等於18歲的樣本\n",
    "# Select samples older than or equal to 18 years old\n",
    "df_adults = df[df['Age'] >= 18]\n",
    "\n",
    "# 計算Cramer's V 檢定\n",
    "# Calculate Cramer's V test\n",
    "def cramers_v(confusion_matrix):\n",
    "    chi2 = chi2_contingency(confusion_matrix)[0]      # 計算卡方值 (Calculate chi-square value)\n",
    "    n = confusion_matrix.sum().sum()      # 計算總數 (Calculate the total)\n",
    "    phi2 = chi2/n      # 計算 phi2 值 (Calculate phi2 value)\n",
    "    r, k = confusion_matrix.shape      # 獲取列和行的數量 (Get the number of columns and rows)\n",
    "    phi2corr = max(0, phi2 - ((k-1)*(r-1))/(n-1))     # 調整 phi2 值 (Adjust phi2 value)\n",
    "    rcorr = r - ((r-1)**2)/(n-1)      # 調整列數 (Adjust the number of columns)\n",
    "    kcorr = k - ((k-1)**2)/(n-1)      # 調整行數 (Adjust the number of rows)\n",
    "    return np.sqrt(phi2corr / min((kcorr-1), (rcorr-1)))      # 返回 Cramer's V 值 (Returns Cramer's V value)\n",
    "\n",
    "# 製作列聯表\n",
    "# Create a contingency table\n",
    "contingency_table = pd.crosstab(df_adults['Education Level'], df_adults['Financial Condition'])\n",
    "\n",
    "# 計算 Cramer's V 並輸出結果\n",
    "# Calculate Cramer's V and print the result\n",
    "cramers_v_value = cramers_v(contingency_table.values)\n",
    "print(f\"Cramer's V value: {cramers_v_value}\")\n"
   ]
  },
  {
   "cell_type": "markdown",
   "metadata": {},
   "source": [
    "---\n",
    "### Mann-Whitney U：對於這些數據，教育程度和經濟水平之間\"沒有\"統計上顯著的差異。\n",
    "##### ( Mann-Whitney U: For these data, there is \"no\" statistically significant difference between educational attainment and economic level.)\n",
    "---"
   ]
  },
  {
   "cell_type": "code",
   "execution_count": 475,
   "metadata": {},
   "outputs": [],
   "source": [
    "# from scipy.stats import mannwhitneyu\n",
    "\n",
    "# # 定義教育程度和經濟水平的資料\n",
    "# education_levels = ['School', 'College', 'University']\n",
    "# economic_levels = ['Poor', 'Mid', 'Rich']\n",
    "\n",
    "# # 請插入您的實際數據\n",
    "# data_school = [9, 27, 9]  # 與 'Poor', 'Mid', 'Rich' 相關的數據\n",
    "# data_college = [17, 200, 2]  # 與 'Poor', 'Mid', 'Rich' 相關的數據\n",
    "# data_university = [82, 342, 32]  # 與 'Poor', 'Mid', 'Rich' 相關的數據\n",
    "\n",
    "# # 執行 Mann-Whitney U 檢定\n",
    "# u_statistic_school, p_value_school = mannwhitneyu(data_school, data_school, alternative='two-sided')\n",
    "# u_statistic_college, p_value_college = mannwhitneyu(data_college, data_college, alternative='two-sided')\n",
    "# u_statistic_university, p_value_university = mannwhitneyu(data_university, data_university, alternative='two-sided')\n",
    "\n",
    "# # 輸出結果\n",
    "# print(f\"Mann-Whitney U 和 p-value for School: {u_statistic_school}, {p_value_school}\")\n",
    "# print(f\"Mann-Whitney U 和 p-value for College: {u_statistic_college}, {p_value_college}\")\n",
    "# print(f\"Mann-Whitney U 和 p-value for University: {u_statistic_university}, {p_value_university}\")\n"
   ]
  },
  {
   "cell_type": "markdown",
   "metadata": {},
   "source": [
    "---\n",
    ">### Spearman等級相關分析：不同教育水平和經濟狀況之間存在著\"一定程度的相關性\"\n",
    ">>1. 對於University 教育程度和經濟狀況之間的相關性，Spearman等級相關係數為0.5。這表明它們之間存在一定程度的正相關，但相關性不是非常強。\n",
    ">>2. 對於College 教育程度和經濟狀況之間的相關性，Spearman等級相關係數為1.0。這顯示它們之間存在一種比較強的正相關性，這意味著這兩個變量在某種程度上隨著彼此的變化而變化。\n",
    ">>3. 對於學校教育程度和經濟狀況之間的相關性，Spearman等級相關係數也為1.0，這與學院教育程度和經濟狀況之間的相關性相似。這也顯示了它們之間存在一種較強的正相關性。  \n",
    "\n",
    ">為何使用\n",
    ">>Spearman's相關係數評估了教育水平和經濟狀況之間的相關程度，取值介於-1和1之間，越接近1表示兩者之間正相關性越強，而越接近-1表示負相關性越強。\n",
    "\n",
    "#### English version\n",
    ">### Spearman's rank correlation analysis: \"some degree of correlation\" between different levels of education and economic status.\n",
    ">>1. For the correlation between University educational attainment and economic status, the Spearman level correlation coefficient is 0.5, which indicates that there is a certain degree of positive correlation between them, but the correlation is not very strong.  \n",
    ">>2. For the correlation between College educational attainment and economic status, the Spearman level correlation coefficient is 1.0, which shows that there is a relatively strong positive correlation between them, which means that these two variables change with each other to some extent.  \n",
    ">>3. For the correlation between schooling level and economic status, Spearman's rank correlation coefficient is also 1.0, which is similar to the correlation between college education level and economic status. This also shows that there is a strong positive correlation between them.  \n",
    "\n",
    ">Why use\n",
    ">>Spearman's correlation coefficient assesses the degree of correlation between education level and economic status, taking values between -1 and 1, with closer to 1 indicating a stronger positive correlation and closer to -1 indicating a stronger negative correlation.\n",
    "---"
   ]
  },
  {
   "cell_type": "code",
   "execution_count": 476,
   "metadata": {},
   "outputs": [
    {
     "name": "stdout",
     "output_type": "stream",
     "text": [
      "Spearman's correlation coefficient:\n",
      "Financial Condition  Mid  Poor  Rich\n",
      "Education Level                     \n",
      "College              1.0   1.0   0.5\n",
      "School               1.0   1.0   0.5\n",
      "University           0.5   0.5   1.0\n",
      "\n",
      "\n",
      "P-value:\n",
      "Financial Condition       Mid      Poor      Rich\n",
      "Education Level                                  \n",
      "College              0.000000  0.000000  0.666667\n",
      "School               0.000000  0.000000  0.666667\n",
      "University           0.666667  0.666667  0.000000\n"
     ]
    }
   ],
   "source": [
    "from scipy.stats import spearmanr\n",
    "\n",
    "# 選擇年齡大於或等於18歲的樣本\n",
    "# Selection of samples older than or equal to 18 years old\n",
    "df_adults = df[df['Age'] >= 18]\n",
    "\n",
    "# 使用 pd.crosstab 函數計算不同教育程度和經濟狀況的交叉分析 \n",
    "# Using pd.crosstab functions to compute cross-tabulations across educational attainment and economic status\n",
    "cross_table = pd.crosstab(df_adults['Education Level'], df_adults['Financial Condition'])\n",
    "\n",
    "# 使用Spearman等級相關分析計算相關係數和p值\n",
    "# Calculate correlation coefficients and p-values using Spearman's rank correlation analysis\n",
    "corr, p_value = spearmanr(cross_table)\n",
    "\n",
    "# 將結果轉換為DataFrame\n",
    "# Converting results to DataFrame\n",
    "corr_df = pd.DataFrame(corr, columns=cross_table.columns, index=cross_table.index)\n",
    "p_value_df = pd.DataFrame(p_value, columns=cross_table.columns, index=cross_table.index)\n",
    "\n",
    "# 顯示相關係數和p值\n",
    "# Display correlation coefficients and p-values\n",
    "print(\"Spearman's correlation coefficient:\")\n",
    "print(corr_df)\n",
    "print(\"\\n\")\n",
    "print(\"P-value:\")\n",
    "print(p_value_df)\n"
   ]
  },
  {
   "cell_type": "markdown",
   "metadata": {},
   "source": [
    "--- \n",
    ">### 步驟四：撰寫結論報告  \n",
    ">>1. 根據分析結果撰寫結論報告，描述從數據中觀察到的現象、關聯性和可能的原因。  \n",
    ">>2. 確保結論是基於數據和統計分析的，並且清晰地傳達給其他人。  \n",
    ">### Step 4: Write a Conclusion Report  \n",
    ">>1. Write a report of conclusions based on the results of the analysis, describing observations, correlations, and possible causes from the data.  \n",
    ">>2. Ensure that the conclusions are based on the data and statistical analysis and are clearly communicated to others.  \n",
    "---"
   ]
  },
  {
   "cell_type": "markdown",
   "metadata": {},
   "source": [
    "---\n",
    "### 目前的數據結果 Current data results\n",
    "- Number of samples in df_adults: 720  \n",
    ">成人的教育程度與經濟水準人數\n",
    ">>|Financial Condition & Education Level  | Poor  |Mid | Rich | Total|         \n",
    ">>| :-- | :-- | :-- | :-- | :-- |          \n",
    ">>|School                  |9   |27     |9     |45|\n",
    ">>|College                |17  |200    | 2    |219|\n",
    ">>|University             |82  |342    |32    |456|\n",
    ">>|Total                 |108  |569   | 43    |720|\n",
    "\n",
    "- Chi-square Statistic: 43.33578659824871;P-value: 8.813829914215358e-09  (教育水平和經濟狀況\"存在關聯性\")  \n",
    "\n",
    "- Cramer's V值為0.165 (\"存在一些程度的關聯性＂，但不能完全確定它們之間有明顯的相關性。)  \n",
    "\n",
    "- Spearman等級相關分析：不同教育水平和經濟狀況之間存在著\"一定程度的相關性\"  \n",
    "> Spearman's correlation coefficient:  \n",
    ">> |Financial Condition & Education(Level)|  Mid | Poor | Rich|\n",
    ">> | :-- | :-- | :-- | :-- |\n",
    ">> |College|1.0| 1.0| 0.5|\n",
    ">> |School| 1.0| 1.0 |  0.5|\n",
    ">> |University| 0.5 |0.5| 1.0|  \n",
    "---"
   ]
  },
  {
   "cell_type": "markdown",
   "metadata": {},
   "source": [
    "\n",
    "---\n",
    "  \n",
    "### 結論\n",
    ">1. 從\"Financial Condition\"（財務狀況）的角度來看，大學（University）的人數最多，其次是大專院校（College），而中小學校（School）的人數最少。  \n",
    ">2. 在\"Education Level\"（教育水平）方面，大學（University）的受訪者數量最多，其次是大專院校（College），最少的是中小學校（School）。  \n",
    ">3. 就\"Financial Condition\"而言，處於中等（Mid）財務狀況的人數最多，其次是困難（Poor）和豐裕（Rich）的人數。  \n",
    "\n",
    ">在數據差異方面：\n",
    ">>1. 在\"University\"教育階段中，相較於\"School\"和\"College\"階段，有較多的人處於\"Mid\"和\"Rich\"的經濟狀況。  \n",
    ">>2. 在\"College\"教育階段中，\"Mid\"經濟狀況的人數遠多於\"Rich\"和\"Poor\"的人數。  \n",
    "\n",
    ">根據數據分析結果：\n",
    ">>1. Chi-square檢驗結果表明教育水平和經濟狀況之間存在著關聯性。P-value的極低值表明這種關聯性具有統計意義，且卡方統計量的高值顯示數據之間存在著較大的差異，這進一步強調了教育水平和經濟狀況之間的關聯性。  \n",
    ">>2. Cramer's V值的中等程度顯示教育水平和經濟狀況之間存在一些程度的關聯性，但並非十分強烈。  \n",
    ">>3. 考慮到數據結果，教育水平和經濟狀況之間的關聯性有統計上的支持，並且顯示了一定程度的關聯性，這強調了這兩者之間的相互影響。然而，由於研究中可能存在其他未知因素的影響，因此建議進一步進行更詳細的分析，以全面了解這些變數之間的關係。  建議考慮引入其他可能的影響因素，例如地理位置、家庭背景或職業等，以更全面地評估教育程度和經濟狀況之間的關聯。  \n",
    "  \n",
    "---"
   ]
  },
  {
   "cell_type": "markdown",
   "metadata": {},
   "source": []
  }
 ],
 "metadata": {
  "kernelspec": {
   "display_name": "Python 3",
   "language": "python",
   "name": "python3"
  },
  "language_info": {
   "codemirror_mode": {
    "name": "ipython",
    "version": 3
   },
   "file_extension": ".py",
   "mimetype": "text/x-python",
   "name": "python",
   "nbconvert_exporter": "python",
   "pygments_lexer": "ipython3",
   "version": "3.9.12"
  }
 },
 "nbformat": 4,
 "nbformat_minor": 2
}
