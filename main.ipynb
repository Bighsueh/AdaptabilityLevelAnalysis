{
 "cells": [
  {
   "cell_type": "markdown",
   "metadata": {},
   "source": [
    "### 使用教學\n",
    "1. 把 repo clone 下來\n",
    "2. 新增一個新的 cell ,將分析方法的程式碼放進去\n",
    "3. 每個人要從資料觀察到至少一種現象的結論，以及將這些結論需要用到方法的程式碼寫出來\n",
    "4. 將結論用 markdown 撰寫，步驟及簡單的解釋註解撰寫\n",
    "4. 建立 pull request, 我 review 過會幫你 merge"
   ]
  },
  {
   "cell_type": "markdown",
   "metadata": {},
   "source": [
    "### 評分重點\n",
    "1. 要有視覺化(圖表之類的)的呈現!!! (解釋成績)\n",
    "2. 如果有類別的資料就需要用表/圖去比較\n",
    "3. 有連續的資料，需要去看關係 (分析關係)，若有相關性要做相關性比較，或是看有沒有正相關。\n",
    "4. final conclusion (寫出你這段程式碼的結論，可以從數據中發現什麼現象)\n",
    "5. 報告過程務必維持在20分鐘內（全部人，所以每個人務必要將自己的報告時間控制在四分鐘內）"
   ]
  },
  {
   "cell_type": "markdown",
   "metadata": {},
   "source": [
    "### 資料集格式\n",
    "#### Students’ Adaptability Level in school, college and university\n",
    ". About this file:  Students’ Adaptability Level in school, college and university  \n",
    ". Gender: Gender type of student  \n",
    ". Age: Age range of the student  \n",
    ". Education Level: Education institution level  \n",
    ". Institution Type: Education institution type  \n",
    ". IT Student: Studying as IT student or not  \n",
    ". Location in Town: Is student location in town  \n",
    ". Load-shedding: Level of load shedding  \n",
    ". Financial Condition: Financial condition of family  \n",
    ". Internet Type: Internet type used mostly in device  \n",
    ". Network Type: Network connectivity type  \n",
    ". Class Duration: Daily class duration  \n",
    ". Self LMS: Institution’s own LMS availability  \n",
    ". Device: Device used mostly in class  \n",
    ". Adaptability Level: Adaptability level of the student  "
   ]
  },
  {
   "cell_type": "code",
   "execution_count": 114,
   "metadata": {},
   "outputs": [],
   "source": [
    "import typing \n",
    "import os\n",
    "import numpy as np\n",
    "import pandas as pd\n",
    "import matplotlib.pyplot as plt"
   ]
  },
  {
   "cell_type": "code",
   "execution_count": 115,
   "metadata": {},
   "outputs": [
    {
     "name": "stdout",
     "output_type": "stream",
     "text": [
      "Requirement already satisfied: matplotlib in c:\\users\\qup39\\anaconda3\\lib\\site-packages (3.8.1)\n",
      "Requirement already satisfied: contourpy>=1.0.1 in c:\\users\\qup39\\anaconda3\\lib\\site-packages (from matplotlib) (1.2.0)\n",
      "Requirement already satisfied: cycler>=0.10 in c:\\users\\qup39\\anaconda3\\lib\\site-packages (from matplotlib) (0.12.1)\n",
      "Requirement already satisfied: fonttools>=4.22.0 in c:\\users\\qup39\\anaconda3\\lib\\site-packages (from matplotlib) (4.44.0)\n",
      "Requirement already satisfied: kiwisolver>=1.3.1 in c:\\users\\qup39\\anaconda3\\lib\\site-packages (from matplotlib) (1.4.5)\n",
      "Requirement already satisfied: numpy<2,>=1.21 in c:\\users\\qup39\\anaconda3\\lib\\site-packages (from matplotlib) (1.24.2)\n",
      "Requirement already satisfied: packaging>=20.0 in c:\\users\\qup39\\anaconda3\\lib\\site-packages (from matplotlib) (23.0)\n",
      "Requirement already satisfied: pillow>=8 in c:\\users\\qup39\\anaconda3\\lib\\site-packages (from matplotlib) (9.4.0)\n",
      "Requirement already satisfied: pyparsing>=2.3.1 in c:\\users\\qup39\\anaconda3\\lib\\site-packages (from matplotlib) (3.1.1)\n",
      "Requirement already satisfied: python-dateutil>=2.7 in c:\\users\\qup39\\anaconda3\\lib\\site-packages (from matplotlib) (2.8.2)\n",
      "Requirement already satisfied: importlib-resources>=3.2.0 in c:\\users\\qup39\\anaconda3\\lib\\site-packages (from matplotlib) (6.0.1)\n",
      "Requirement already satisfied: zipp>=3.1.0 in c:\\users\\qup39\\anaconda3\\lib\\site-packages (from importlib-resources>=3.2.0->matplotlib) (3.11.0)\n",
      "Requirement already satisfied: six>=1.5 in c:\\users\\qup39\\anaconda3\\lib\\site-packages (from python-dateutil>=2.7->matplotlib) (1.16.0)\n",
      "Requirement already satisfied: seaborn in c:\\users\\qup39\\anaconda3\\lib\\site-packages (0.13.0)\n",
      "Requirement already satisfied: numpy!=1.24.0,>=1.20 in c:\\users\\qup39\\anaconda3\\lib\\site-packages (from seaborn) (1.24.2)\n",
      "Requirement already satisfied: pandas>=1.2 in c:\\users\\qup39\\anaconda3\\lib\\site-packages (from seaborn) (1.5.3)\n",
      "Requirement already satisfied: matplotlib!=3.6.1,>=3.3 in c:\\users\\qup39\\anaconda3\\lib\\site-packages (from seaborn) (3.8.1)\n",
      "Requirement already satisfied: contourpy>=1.0.1 in c:\\users\\qup39\\anaconda3\\lib\\site-packages (from matplotlib!=3.6.1,>=3.3->seaborn) (1.2.0)\n",
      "Requirement already satisfied: cycler>=0.10 in c:\\users\\qup39\\anaconda3\\lib\\site-packages (from matplotlib!=3.6.1,>=3.3->seaborn) (0.12.1)\n",
      "Requirement already satisfied: fonttools>=4.22.0 in c:\\users\\qup39\\anaconda3\\lib\\site-packages (from matplotlib!=3.6.1,>=3.3->seaborn) (4.44.0)\n",
      "Requirement already satisfied: kiwisolver>=1.3.1 in c:\\users\\qup39\\anaconda3\\lib\\site-packages (from matplotlib!=3.6.1,>=3.3->seaborn) (1.4.5)\n",
      "Requirement already satisfied: packaging>=20.0 in c:\\users\\qup39\\anaconda3\\lib\\site-packages (from matplotlib!=3.6.1,>=3.3->seaborn) (23.0)\n",
      "Requirement already satisfied: pillow>=8 in c:\\users\\qup39\\anaconda3\\lib\\site-packages (from matplotlib!=3.6.1,>=3.3->seaborn) (9.4.0)\n",
      "Requirement already satisfied: pyparsing>=2.3.1 in c:\\users\\qup39\\anaconda3\\lib\\site-packages (from matplotlib!=3.6.1,>=3.3->seaborn) (3.1.1)\n",
      "Requirement already satisfied: python-dateutil>=2.7 in c:\\users\\qup39\\anaconda3\\lib\\site-packages (from matplotlib!=3.6.1,>=3.3->seaborn) (2.8.2)\n",
      "Requirement already satisfied: importlib-resources>=3.2.0 in c:\\users\\qup39\\anaconda3\\lib\\site-packages (from matplotlib!=3.6.1,>=3.3->seaborn) (6.0.1)\n",
      "Requirement already satisfied: pytz>=2020.1 in c:\\users\\qup39\\anaconda3\\lib\\site-packages (from pandas>=1.2->seaborn) (2022.7)\n",
      "Requirement already satisfied: zipp>=3.1.0 in c:\\users\\qup39\\anaconda3\\lib\\site-packages (from importlib-resources>=3.2.0->matplotlib!=3.6.1,>=3.3->seaborn) (3.11.0)\n",
      "Requirement already satisfied: six>=1.5 in c:\\users\\qup39\\anaconda3\\lib\\site-packages (from python-dateutil>=2.7->matplotlib!=3.6.1,>=3.3->seaborn) (1.16.0)\n",
      "Requirement already satisfied: plotly in c:\\users\\qup39\\anaconda3\\lib\\site-packages (5.18.0)\n",
      "Requirement already satisfied: tenacity>=6.2.0 in c:\\users\\qup39\\anaconda3\\lib\\site-packages (from plotly) (8.2.3)\n",
      "Requirement already satisfied: packaging in c:\\users\\qup39\\anaconda3\\lib\\site-packages (from plotly) (23.0)\n",
      "Requirement already satisfied: scipy in c:\\users\\qup39\\anaconda3\\lib\\site-packages (1.11.3)\n",
      "Requirement already satisfied: numpy<1.28.0,>=1.21.6 in c:\\users\\qup39\\anaconda3\\lib\\site-packages (from scipy) (1.24.2)\n"
     ]
    }
   ],
   "source": [
    "!pip install matplotlib\n",
    "!pip install seaborn\n",
    "!pip install plotly\n",
    "!pip install scipy\n"
   ]
  },
  {
   "cell_type": "code",
   "execution_count": 116,
   "metadata": {},
   "outputs": [],
   "source": [
    "# 視覺化\n",
    "import seaborn as sns\n",
    "import plotly.express as px"
   ]
  },
  {
   "cell_type": "code",
   "execution_count": 117,
   "metadata": {},
   "outputs": [],
   "source": [
    "# 檔案路徑\n",
    "target_file: str = \"students_adaptability_level_online_education.csv\"\n",
    "target_folder: str = \"./dataset/\"\n",
    "target_path: str = f\"{target_folder}{target_file}\"\n"
   ]
  },
  {
   "cell_type": "code",
   "execution_count": 118,
   "metadata": {},
   "outputs": [
    {
     "data": {
      "text/html": [
       "<div>\n",
       "<style scoped>\n",
       "    .dataframe tbody tr th:only-of-type {\n",
       "        vertical-align: middle;\n",
       "    }\n",
       "\n",
       "    .dataframe tbody tr th {\n",
       "        vertical-align: top;\n",
       "    }\n",
       "\n",
       "    .dataframe thead th {\n",
       "        text-align: right;\n",
       "    }\n",
       "</style>\n",
       "<table border=\"1\" class=\"dataframe\">\n",
       "  <thead>\n",
       "    <tr style=\"text-align: right;\">\n",
       "      <th></th>\n",
       "      <th>Gender</th>\n",
       "      <th>Age</th>\n",
       "      <th>Education Level</th>\n",
       "      <th>Institution Type</th>\n",
       "      <th>IT Student</th>\n",
       "      <th>Location</th>\n",
       "      <th>Load-shedding</th>\n",
       "      <th>Financial Condition</th>\n",
       "      <th>Internet Type</th>\n",
       "      <th>Network Type</th>\n",
       "      <th>Class Duration</th>\n",
       "      <th>Self Lms</th>\n",
       "      <th>Device</th>\n",
       "      <th>Adaptivity Level</th>\n",
       "    </tr>\n",
       "  </thead>\n",
       "  <tbody>\n",
       "    <tr>\n",
       "      <th>0</th>\n",
       "      <td>Boy</td>\n",
       "      <td>21-25</td>\n",
       "      <td>University</td>\n",
       "      <td>Non Government</td>\n",
       "      <td>No</td>\n",
       "      <td>Yes</td>\n",
       "      <td>Low</td>\n",
       "      <td>Mid</td>\n",
       "      <td>Wifi</td>\n",
       "      <td>4G</td>\n",
       "      <td>3-6</td>\n",
       "      <td>No</td>\n",
       "      <td>Tab</td>\n",
       "      <td>Moderate</td>\n",
       "    </tr>\n",
       "    <tr>\n",
       "      <th>1</th>\n",
       "      <td>Girl</td>\n",
       "      <td>21-25</td>\n",
       "      <td>University</td>\n",
       "      <td>Non Government</td>\n",
       "      <td>No</td>\n",
       "      <td>Yes</td>\n",
       "      <td>High</td>\n",
       "      <td>Mid</td>\n",
       "      <td>Mobile Data</td>\n",
       "      <td>4G</td>\n",
       "      <td>1-3</td>\n",
       "      <td>Yes</td>\n",
       "      <td>Mobile</td>\n",
       "      <td>Moderate</td>\n",
       "    </tr>\n",
       "    <tr>\n",
       "      <th>2</th>\n",
       "      <td>Girl</td>\n",
       "      <td>16-20</td>\n",
       "      <td>College</td>\n",
       "      <td>Government</td>\n",
       "      <td>No</td>\n",
       "      <td>Yes</td>\n",
       "      <td>Low</td>\n",
       "      <td>Mid</td>\n",
       "      <td>Wifi</td>\n",
       "      <td>4G</td>\n",
       "      <td>1-3</td>\n",
       "      <td>No</td>\n",
       "      <td>Mobile</td>\n",
       "      <td>Moderate</td>\n",
       "    </tr>\n",
       "  </tbody>\n",
       "</table>\n",
       "</div>"
      ],
      "text/plain": [
       "  Gender    Age Education Level Institution Type IT Student Location  \\\n",
       "0    Boy  21-25      University   Non Government         No      Yes   \n",
       "1   Girl  21-25      University   Non Government         No      Yes   \n",
       "2   Girl  16-20         College       Government         No      Yes   \n",
       "\n",
       "  Load-shedding Financial Condition Internet Type Network Type Class Duration  \\\n",
       "0           Low                 Mid          Wifi           4G            3-6   \n",
       "1          High                 Mid   Mobile Data           4G            1-3   \n",
       "2           Low                 Mid          Wifi           4G            1-3   \n",
       "\n",
       "  Self Lms  Device Adaptivity Level  \n",
       "0       No     Tab         Moderate  \n",
       "1      Yes  Mobile         Moderate  \n",
       "2       No  Mobile         Moderate  "
      ]
     },
     "execution_count": 118,
     "metadata": {},
     "output_type": "execute_result"
    }
   ],
   "source": [
    "# 將 dataset 讀入 dataframe\n",
    "df: pd.DataFrame = pd.read_csv(target_path)\n",
    "df.head(3)"
   ]
  },
  {
   "cell_type": "markdown",
   "metadata": {},
   "source": [
    "### 進行學生的財務狀況與教育水平的關聯性分析\n",
    "\n",
    "- Education Level (教育水平)\n",
    "- Financial Condition (財務狀況)\n",
    "\n",
    "- 預期效果: 可能會顯示出家庭經濟狀況對學生教育機會的影響程度。"
   ]
  },
  {
   "cell_type": "markdown",
   "metadata": {},
   "source": [
    "### 步驟一：資料準備與清理\n",
    "檢查你的資料集，確保其中包含了教育程度和年齡這兩個欄位。  \n",
    "使用程式碼將資料集載入到你的環境中，例如使用 Python 的 pandas 庫。  "
   ]
  },
  {
   "cell_type": "code",
   "execution_count": 119,
   "metadata": {},
   "outputs": [
    {
     "name": "stdout",
     "output_type": "stream",
     "text": [
      "Index(['Gender', 'Age', 'Education Level', 'Institution Type', 'IT Student',\n",
      "       'Location', 'Load-shedding', 'Financial Condition', 'Internet Type',\n",
      "       'Network Type', 'Class Duration', 'Self Lms', 'Device',\n",
      "       'Adaptivity Level'],\n",
      "      dtype='object')\n",
      "Gender                 0\n",
      "Age                    0\n",
      "Education Level        0\n",
      "Institution Type       0\n",
      "IT Student             0\n",
      "Location               0\n",
      "Load-shedding          0\n",
      "Financial Condition    0\n",
      "Internet Type          0\n",
      "Network Type           0\n",
      "Class Duration         0\n",
      "Self Lms               0\n",
      "Device                 0\n",
      "Adaptivity Level       0\n",
      "dtype: int64\n"
     ]
    }
   ],
   "source": [
    "# 檢查列名稱\n",
    "print(df.columns)\n",
    "\n",
    "# 檢查缺失值\n",
    "print(df.isnull().sum())"
   ]
  },
  {
   "cell_type": "markdown",
   "metadata": {},
   "source": [
    "### 步驟二：成人與教育程度統計\n",
    "首先，選擇年齡大於或等於18歲的樣本。  \n",
    "然後，使用相應的程式碼計算該樣本中不同教育程度的分佈情況。  \n",
    "最後，使用適當的圖表或視覺化工具展示這些結果。  \n"
   ]
  },
  {
   "cell_type": "code",
   "execution_count": 120,
   "metadata": {},
   "outputs": [
    {
     "name": "stdout",
     "output_type": "stream",
     "text": [
      "Age_Group        Adults\n",
      "Education Level        \n",
      "College             197\n",
      "School               45\n",
      "University           36\n"
     ]
    }
   ],
   "source": [
    "# 處理年齡區間資料，將其轉換為數值\n",
    "def age_range_to_value(age_range):\n",
    "    if '-' in age_range:\n",
    "        split_age = age_range.split('-')\n",
    "        return (int(split_age[0]) + int(split_age[1])) // 2\n",
    "    else:\n",
    "        return int(age_range)\n",
    "\n",
    "# 使用處理後的函數處理年齡資料\n",
    "df['Age'] = df['Age'].apply(age_range_to_value)\n",
    "\n",
    "# 將年齡分組\n",
    "bins = [0, 12, 15, 18]\n",
    "labels = ['Children', 'Teenagers', 'Adults']\n",
    "df['Age_Group'] = pd.cut(df['Age'], bins=bins, labels=labels)\n",
    "\n",
    "# 選擇年齡大於或等於18歲的樣本\n",
    "df_adults = df[df['Age'] >= 18]\n",
    "\n",
    "# 教育程度與年齡交叉分析\n",
    "cross_table = pd.crosstab(df_adults['Education Level'], df_adults['Age_Group'])\n",
    "print(cross_table)\n"
   ]
  },
  {
   "cell_type": "code",
   "execution_count": 121,
   "metadata": {},
   "outputs": [
    {
     "data": {
      "image/png": "[encoded data removed]",
      "text/plain": [
       "<Figure size 640x480 with 1 Axes>"
      ]
     },
     "metadata": {},
     "output_type": "display_data"
    }
   ],
   "source": [
    "import matplotlib.pyplot as plt\n",
    "\n",
    "# 設置堆疊條形圖\n",
    "cross_table.plot(kind='bar', stacked=True)\n",
    "\n",
    "# 在長條圖上顯示數量\n",
    "for c in cross_table.columns:\n",
    "    for i, val in enumerate(cross_table[c].values):\n",
    "        plt.text(i, val, str(val), ha='center', va='bottom')\n",
    "\n",
    "# 設置標籤\n",
    "plt.xlabel('Education Level')\n",
    "plt.ylabel('Count')\n",
    "plt.title('Distribution of Education Level in Different Age Groups')\n",
    "plt.show()\n"
   ]
  },
  {
   "cell_type": "markdown",
   "metadata": {},
   "source": [
    "### 步驟二-2 成人與經濟狀況統計 ('Financial Condition'=['Poor','Mid','Rich'])\n",
    "1. 選擇年齡大於或等於18歲的樣本。\n",
    "2. 使用 pd.crosstab 函數計算不同教育程度和經濟狀況的交叉分析。\n",
    "3. 使用堆疊條形圖顯示結果。"
   ]
  },
  {
   "cell_type": "code",
   "execution_count": 122,
   "metadata": {},
   "outputs": [
    {
     "data": {
      "image/png": "[encoded data removed]",
      "text/plain": [
       "<Figure size 640x480 with 1 Axes>"
      ]
     },
     "metadata": {},
     "output_type": "display_data"
    }
   ],
   "source": [
    "# 選擇年齡大於或等於18歲的樣本\n",
    "df_adults = df[df['Age'] >= 18]\n",
    "\n",
    "# 使用 pd.crosstab 函數計算不同教育程度和經濟狀況的交叉分析\n",
    "cross_table_fc = pd.crosstab(df_adults['Education Level'], df_adults['Financial Condition'])\n",
    "\n",
    "# 繪製堆疊條形圖\n",
    "cross_table_fc.plot(kind='bar', stacked=True)\n",
    "\n",
    "# 設置標籤\n",
    "plt.xlabel('Education Level')\n",
    "plt.ylabel('Count')\n",
    "plt.title('Distribution of Education Level by Financial Condition for Adults')\n",
    "plt.show()\n"
   ]
  },
  {
   "cell_type": "markdown",
   "metadata": {},
   "source": [
    "### 步驟三：成人的財務狀況與成人的教育程度關聯性分析-卡方\n",
    "1. 選擇年齡大於或等於18歲的樣本。\n",
    "2. 使用相應的程式碼計算該樣本中不同教育程度的分佈情況以及不同財務狀況的分佈情況。\n",
    "3. 使用適當的圖表來展示這些結果，例如堆疊條形圖、熱力圖或分類箱形圖，以便更清楚地比較不同教育程度下的財務狀況。\n",
    "4. 使用統計方法（如卡方檢定或相關係數）來評估教育程度和財務狀況之間的關聯性。\n",
    "5. 最後，通過撰寫解讀分析結果的報告或總結來呈現你的發現，並確保你提供了清晰的解釋以及可能的影響和推論。"
   ]
  },
  {
   "cell_type": "code",
   "execution_count": 123,
   "metadata": {},
   "outputs": [
    {
     "name": "stdout",
     "output_type": "stream",
     "text": [
      "Chi-square Statistic: 43.33578659824871\n",
      "P-value: 8.813829914215358e-09\n"
     ]
    }
   ],
   "source": [
    "# 選擇年齡大於或等於18歲的樣本\n",
    "df_adults = df[df['Age'] >= 18]\n",
    "contingency_table = pd.crosstab(df_adults['Education Level'], df_adults['Financial Condition'])\n",
    "chi2, p, dof, expected = chi2_contingency(contingency_table)\n",
    "print(f\"Chi-square Statistic: {chi2}\")\n",
    "print(f\"P-value: {p}\")\n"
   ]
  },
  {
   "cell_type": "markdown",
   "metadata": {},
   "source": [
    "根據卡方檢定的結果，我們可以得出以下結論：  \n",
    "\n",
    "卡方統計量（Chi-square Statistic）的值是63.8261，這表明數據的分佈與期望分佈之間存在顯著差異。卡方統計量越大，表示觀察到的數據與期望值之間的差異越大。  \n",
    "P值（P-value）非常接近零，為4.55e-13。這個極小的P值表明，我們可以非常有信心地拒絕虛無假設，即教育程度和財務狀況之間沒有關聯。  "
   ]
  },
  {
   "cell_type": "markdown",
   "metadata": {},
   "source": [
    "### 步驟三-2：使用皮爾森相關係數來計算兩個變數之間的相關性。  \n",
    "皮爾森相關係數是一種常見的統計量，可以用來衡量兩個變數之間的線性相關性。它的值會介於 -1 和 1 之間，其中 1 表示完全正相關，-1 表示完全負相關，而 0 則表示沒有線性相關性。"
   ]
  },
  {
   "cell_type": "code",
   "execution_count": 126,
   "metadata": {},
   "outputs": [
    {
     "name": "stdout",
     "output_type": "stream",
     "text": [
      "Pearson Correlation Coefficient: -0.0655859756824368\n"
     ]
    }
   ],
   "source": [
    "from scipy.stats import pearsonr\n",
    "\n",
    "# 篩選、選擇年齡大於或等於18歲的樣本\n",
    "df_adults = df[df['Age'] >= 18].copy()\n",
    "\n",
    "# 將 'Education Level' 列映射到數值\n",
    "education_mapping = {'School': 1, 'College': 2, 'University': 3}\n",
    "df_adults.loc[:, 'Education_Level_Numeric'] = df_adults['Education Level'].map(education_mapping)\n",
    "\n",
    "# 將 'Financial Condition' 列映射到數值\n",
    "financial_condition_mapping = {'Poor': 1, 'Mid': 2, 'Rich': 3}\n",
    "df_adults.loc[:, 'Financial_Condition_Numeric'] = df_adults['Financial Condition'].map(financial_condition_mapping)\n",
    "\n",
    "# 計算皮爾森相關係數\n",
    "corr, _ = pearsonr(df_adults['Financial_Condition_Numeric'], df_adults['Education_Level_Numeric'])\n",
    "\n",
    "print(f\"Pearson Correlation Coefficient: {corr}\")\n"
   ]
  },
  {
   "cell_type": "markdown",
   "metadata": {},
   "source": [
    "皮爾森相關係數是一種衡量兩個連續變量之間線性相關程度的統計量。其取值範圍在-1和1之間，代表了不同程度的相關性：\n",
    "\n",
    "當相關係數接近1時，表示兩個變量之間存在著正相關，即其中一個變量增加時，另一個變量也會增加。\n",
    "當相關係數接近-1時，表示兩個變量之間存在著負相關，即其中一個變量增加時，另一個變量會減少。\n",
    "當相關係數接近0時，表示兩個變量之間幾乎沒有線性關係。\n"
   ]
  },
  {
   "cell_type": "markdown",
   "metadata": {},
   "source": [
    "### 步驟四：撰寫結論報告\n",
    "根據你的分析結果撰寫結論報告，描述你從數據中觀察到的現象、關聯性和可能的原因。  \n",
    "確保你的結論是基於數據和統計分析的，並且清晰地傳達給其他人。  "
   ]
  },
  {
   "cell_type": "markdown",
   "metadata": {},
   "source": [
    "目前的數據結果\n",
    "- Chi-square Statistic: 43.33578659824871\n",
    "- P-value: 8.813829914215358e-09\n",
    "- Pearson Correlation Coefficient: -0.0655859756824368\n",
    "\n",
    "1. 卡方統計量是用於衡量觀察數據與期望數據之間的偏差程度。具體而言，Chi-square統計量越大，表示觀察到的數據與期望值之間的差異越大。在這裡，Chi-square統計量為43.34，顯示數據的分佈與期望分佈之間存在顯著差異。\n",
    "\n",
    "2. P值（P-value）是用於評估統計檢定結果的重要指標。在這裡，P值非常接近零，為8.81e-09，這意味著我們可以非常有信心地拒絕虛無假設，即數據之間沒有關聯。這裡的虛無假設可以是指教育程度與財務狀況之間沒有關聯。\n",
    "\n",
    "3. 皮爾森相關係數是用於衡量兩個變量之間的線性關係程度。這裡的皮爾森相關係數為-0.0656，表示財務狀況和教育水平之間存在一個微弱的負相關。值得注意的是，-1表示完全的負相關，0表示沒有線性關係，而1表示完全的正相關。由於這裡的值接近於0，這意味著兩個變量之間幾乎沒有線性關係。\n",
    "\n",
    "總體而言，我的分析顯示了財務狀況和教育水平之間可能存在某種微弱的關聯性，但這種關聯性並不強烈。這可能暗示了其他因素（Institution Type、Location in Town...等）對於學生的教育機會和成就有更深遠的影響。因此，在進一步研究中，需要考慮更多變量以獲得更全面的結論。"
   ]
  },
  {
   "cell_type": "markdown",
   "metadata": {},
   "source": []
  }
 ],
 "metadata": {
  "kernelspec": {
   "display_name": "Python 3",
   "language": "python",
   "name": "python3"
  },
  "language_info": {
   "codemirror_mode": {
    "name": "ipython",
    "version": 3
   },
   "file_extension": ".py",
   "mimetype": "text/x-python",
   "name": "python",
   "nbconvert_exporter": "python",
   "pygments_lexer": "ipython3",
   "version": "3.9.12"
  }
 },
 "nbformat": 4,
 "nbformat_minor": 2
}
